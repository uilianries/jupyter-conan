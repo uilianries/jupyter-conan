{
 "cells": [
  {
   "cell_type": "markdown",
   "metadata": {},
   "source": [
    "![logo](https://docs.conan.io/en/latest/_static/conan_logo.png)\n",
    "\n",
    "# Welcome to conan\n",
    "\n",
    "Conan is a portable package manager, intended for C and C++ developers, but it is able to manage builds from source, dependencies, and precompiled binaries for any language.\n",
    "\n",
    "For more information, check [conan.io](conan.io)."
   ]
  },
  {
   "cell_type": "markdown",
   "metadata": {},
   "source": [
    "Install\n",
    "=======\n",
    "\n",
    "Conan can be installed in many Operating Systems. It has been extensively used and tested in Windows, Linux (different distros), OSX, and is\n",
    "also actively used in FreeBSD and Solaris SunOS. There are also several additional operating systems on which it has been reported to work.\n",
    "\n",
    "There are three ways to install conan:\n",
    "\n",
    "1. The preferred and **strongly recommended way to install Conan** is from PyPI, the Python Package Index, using the ``pip`` command.\n",
    "2. There are other available installers for different systems, which might come with a bundled python interpreter, so that you don't have to\n",
    "   install python first. Please note that some of **these installers might have some limitations**, specially those created with pyinstaller\n",
    "   (such as Windows exe & Linux deb).\n",
    "3. Running conan from sources.\n",
    "\n",
    "Install with pip (recommended)\n",
    "------------------------------\n",
    "\n",
    "To install Conan using **pip**, you need a python 2.7 or 3.X distribution installed in your machine. Modern python distros come \n",
    "with pip pre-installed. However, if necessary you can install pip by following the instructions in `pip docs`.\n",
    "\n",
    "Install conan:"
   ]
  },
  {
   "cell_type": "code",
   "execution_count": null,
   "metadata": {},
   "outputs": [],
   "source": [
    "!pip install conan"
   ]
  },
  {
   "cell_type": "markdown",
   "metadata": {},
   "source": [
    "Initial configuration\n",
    "---------------------\n",
    "\n",
    "Let's check if conan is correctly installed. In your console, run the following:"
   ]
  },
  {
   "cell_type": "code",
   "execution_count": null,
   "metadata": {},
   "outputs": [],
   "source": [
    "!conan"
   ]
  },
  {
   "cell_type": "markdown",
   "metadata": {},
   "source": [
    "Getting started\n",
    "===============\n",
    "\n",
    "Let's start with an example using one of the most popular C++ libraries: [POCO](https://pocoproject.org/). For convenience purposes we'll use CMake. Keep in mind that\n",
    "Conan **works with any build system** and does not depend on CMake.\n"
   ]
  },
  {
   "cell_type": "markdown",
   "metadata": {},
   "source": [
    "A Timer using POCO libraries\n",
    "----------------------------\n",
    "\n",
    "If your code is in a GitHub repository you can simply clone the project, instead of creating this folder, using the following command:"
   ]
  },
  {
   "cell_type": "code",
   "execution_count": null,
   "metadata": {},
   "outputs": [],
   "source": [
    "!git clone https://github.com/memsharded/example-poco-timer.git"
   ]
  },
  {
   "cell_type": "markdown",
   "metadata": {},
   "source": [
    "Next, let's check the following source files inside this folder:"
   ]
  },
  {
   "cell_type": "code",
   "execution_count": null,
   "metadata": {},
   "outputs": [],
   "source": [
    "!pygmentize -g example-poco-timer/timer.cpp"
   ]
  },
  {
   "cell_type": "markdown",
   "metadata": {},
   "source": [
    "Now let's read a conanfile.txt inside this folder with the following content:"
   ]
  },
  {
   "cell_type": "code",
   "execution_count": null,
   "metadata": {},
   "outputs": [],
   "source": [
    "!pygmentize -g example-poco-timer/conanfile.txt"
   ]
  },
  {
   "cell_type": "markdown",
   "metadata": {},
   "source": [
    "In this example we will use CMake to build the project, which is why the ``cmake`` generator is specified. This generator will create a\n",
    "*conanbuildinfo.cmake* file that defines CMake variables as include paths and library names, that can be used in our build.\n",
    "\n",
    "If you are not a CMake user, change the ``[generators]`` section of your *conanfile.txt* to ``gcc`` or a more generic one ``txt`` to handle requirements with any build system.\n",
    "\n",
    "Just include the generated file and use these variables inside our *CMakeLists.txt*:"
   ]
  },
  {
   "cell_type": "code",
   "execution_count": null,
   "metadata": {},
   "outputs": [],
   "source": [
    "!pygmentize -g example-poco-timer/CMakeLists.txt"
   ]
  },
  {
   "cell_type": "markdown",
   "metadata": {},
   "source": [
    "Installing dependencies\n",
    "-----------------------\n",
    "\n",
    "Then create a build folder, for temporary build files, and install the requirements (pointing to the parent directory, as it is where the *conanfile.txt* is):"
   ]
  },
  {
   "cell_type": "code",
   "execution_count": null,
   "metadata": {},
   "outputs": [],
   "source": [
    "!conan install example-poco-timer"
   ]
  },
  {
   "cell_type": "markdown",
   "metadata": {},
   "source": [
    "This `conan install` command will download the binary package required for your configuration (detected the first time  that you ran the command), **together with other (transitively required by Poco) libraries, like OpenSSL and Zlib**.\n",
    "\n",
    "It will also create the *conanbuildinfo.cmake* file in the current directory, in which you can see the cmake defined variables, and a *conaninfo.txt* where information about settings, requirements and options is saved.\n",
    "\n",
    "It is very important to understand the installation process. When `conan install` command is issued, it will use some settings, specified on the command line or taken from the defaults in ``<userhome>/.conan/profiles/default`` file.\n",
    "\n",
    "![install_flow](https://docs.conan.io/en/latest/_images/install_flow.png)\n",
    "\n",
    "For a command like `conan install . -s os=\"Linux\" -s compiler=\"gcc\"`, the steps are:\n",
    "\n",
    "- Check if the package recipe (for ``Poco/1.8.0.1@pocoproject/stable`` package) exists in the local cache. If we are just starting, the\n",
    "  cache will be empty.\n",
    "- Look for the package recipe in the defined remotes. Conan comes with `conan-center`_ Bintray remote by default (you can change that).\n",
    "- If the recipe exists, Conan client will fetch and store it in your local cache.\n",
    "- With the package recipe and the input settings (Linux, gcc), Conan client will check in the local cache if the corresponding binary is\n",
    "  there, if we are installing for the first time, it won't.\n",
    "- Conan client will search for the corresponding binary package in the remote, if it exists, it will be fetched.\n",
    "- Conan client will then finish generating the requested files specified in ``generators``.\n",
    "\n",
    "If the binary package necessary for some given settings doesn't exist, Conan client will throw an error. It is possible to try to build the\n",
    "binary package from sources with the ``--build=missing`` command line argument to install. A detailed description of how a binary package is\n",
    "built from sources will be given in a later section."
   ]
  },
  {
   "cell_type": "markdown",
   "metadata": {},
   "source": [
    "Building the timer example\n",
    "--------------------------\n",
    "\n",
    "Now you are ready to build and run your project:"
   ]
  },
  {
   "cell_type": "code",
   "execution_count": null,
   "metadata": {},
   "outputs": [],
   "source": [
    "!cmake example-poco-timer\n",
    "!cmake --build ."
   ]
  },
  {
   "cell_type": "code",
   "execution_count": null,
   "metadata": {},
   "outputs": [],
   "source": [
    "!bin/timer"
   ]
  },
  {
   "cell_type": "markdown",
   "metadata": {},
   "source": [
    "Inspecting dependencies\n",
    "-----------------------\n",
    "\n",
    "The retrieved packages are installed to your local user cache (typically ``.conan/data``), and can be reused from there in other projects.\n",
    "This allows to clean your current project and keep working even without network connection. Search packages in the local cache using:"
   ]
  },
  {
   "cell_type": "code",
   "execution_count": null,
   "metadata": {},
   "outputs": [],
   "source": [
    "!conan search"
   ]
  },
  {
   "cell_type": "markdown",
   "metadata": {},
   "source": [
    "Inspect binary package details (for different installed binaries for a given package recipe) using:"
   ]
  },
  {
   "cell_type": "code",
   "execution_count": null,
   "metadata": {},
   "outputs": [],
   "source": [
    "!conan search Poco/1.8.0.1@pocoproject/stable"
   ]
  },
  {
   "cell_type": "markdown",
   "metadata": {},
   "source": [
    "There is also the option to generate a table for all binaries from a given recipe with the ``--table`` option, even in remotes:"
   ]
  },
  {
   "cell_type": "code",
   "execution_count": null,
   "metadata": {},
   "outputs": [],
   "source": [
    "!conan search Poco/1.8.0.1@pocoproject/stable --table=file.html -r=conan-center\n",
    "from IPython.display import HTML\n",
    "HTML(filename=\"./file.html\")"
   ]
  },
  {
   "cell_type": "markdown",
   "metadata": {},
   "source": [
    "Check the reference for more information on how to search in remotes, how to remove or clean packages from the local cache, and how to\n",
    "define custom cache directory per user or per project.\n",
    "\n",
    "Inspect your current project's dependencies with the ``info`` command, pointing it to the folder where the *conanfile.txt* is:"
   ]
  },
  {
   "cell_type": "code",
   "execution_count": null,
   "metadata": {},
   "outputs": [],
   "source": [
    "!conan info example-poco-timer"
   ]
  },
  {
   "cell_type": "markdown",
   "metadata": {},
   "source": [
    "Generate a graph of your dependencies in dot or html formats:"
   ]
  },
  {
   "cell_type": "code",
   "execution_count": null,
   "metadata": {},
   "outputs": [],
   "source": [
    "!conan info example-poco-timer --graph=info.html\n",
    "from IPython.display import HTML\n",
    "HTML(filename=\"./info.html\")"
   ]
  },
  {
   "cell_type": "markdown",
   "metadata": {},
   "source": [
    "Searching packages\n",
    "------------------\n",
    "The packages that have been used are installed from the remote repository that is configured by default in the conan client, which is called \"conan-center\" and is in Bintray. You can search for existing packages there with:"
   ]
  },
  {
   "cell_type": "code",
   "execution_count": null,
   "metadata": {},
   "outputs": [],
   "source": [
    "!conan search \"Poco*\" -r=conan-center"
   ]
  },
  {
   "cell_type": "markdown",
   "metadata": {},
   "source": [
    "There are other community repositories that can be configured and used."
   ]
  },
  {
   "cell_type": "markdown",
   "metadata": {},
   "source": [
    "\n",
    "Building with other configurations\n",
    "----------------------------------\n",
    "\n",
    "In this example we have built our project using the default configuration detected by conan, this configuration is known as the `default profile`.\n",
    "\n",
    "The first time you run the command that requires a profile, such as `conan install`, your settings are detected (compiler, architecture...) automatically and stored as default in a profile. You can change your those settings by editing ``~/.conan/profiles/default`` or create new profiles with the desired configuration.\n",
    "\n",
    "For example, if we have a profile with a gcc configutarion for 32 bits in a profile called *gcc_x86*, we could issue the ``install``.\n",
    "\n",
    "However, the user can always override the default profile settings in ``install`` command with the ``-s`` parameter. As an exercise, try building your timer project with a different configuration. For example, you could try building the 32 bits version:"
   ]
  },
  {
   "cell_type": "code",
   "execution_count": null,
   "metadata": {},
   "outputs": [],
   "source": [
    "!conan install example-poco-timer -s arch=x86"
   ]
  },
  {
   "cell_type": "markdown",
   "metadata": {},
   "source": [
    "This will install a different package, using the ``-s arch=x86`` setting, instead of the default used previously, that in most cases will be\n",
    "``x86_64``.\n",
    "\n",
    "To use the 32 bits binaries you will also have to change your project build:\n",
    "\n",
    "- In Windows, change the invocation accordingly to ``Visual Studio 14``.\n",
    "- In Linux, you have to add the ``-m32`` flag to your ``CMakeLists.txt`` with ``SET(CMAKE_CXX_FLAGS \"${CMAKE_CXX_FLAGS}-m32\")``, and the same to ``CMAKE_C_FLAGS, CMAKE_SHARED_LINK_FLAGS and CMAKE_EXE_LINKER_FLAGS``. This can also be done more easily, automatically with Conan, as we'll see later.\n",
    "- In Mac, you need to add the definition ``-DCMAKE_OSX_ARCHITECTURES=i386``."
   ]
  }
 ],
 "metadata": {
  "kernelspec": {
   "display_name": "Python 3",
   "language": "python",
   "name": "python3"
  },
  "language_info": {
   "codemirror_mode": {
    "name": "ipython",
    "version": 3
   },
   "file_extension": ".py",
   "mimetype": "text/x-python",
   "name": "python",
   "nbconvert_exporter": "python",
   "pygments_lexer": "ipython3",
   "version": "3.6.5"
  }
 },
 "nbformat": 4,
 "nbformat_minor": 2
}
